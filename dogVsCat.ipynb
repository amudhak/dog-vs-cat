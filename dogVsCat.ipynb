{
 "cells": [
  {
   "cell_type": "markdown",
   "id": "4bdadd59-4122-4088-a0e6-12426ef104df",
   "metadata": {},
   "source": [
    "# Dog vs Cat Detection\n",
    "Training a neural network to be able to differentiate between images of dogs and cats.\n",
    "Doesn't go through images in any order."
   ]
  },
  {
   "cell_type": "markdown",
   "id": "8c1a3acf-21e7-4c53-9f6b-87f0c079f3f1",
   "metadata": {},
   "source": [
    "## Preprocessing Data"
   ]
  },
  {
   "cell_type": "code",
   "execution_count": null,
   "id": "8fd0156f-a157-4847-8280-246643e39b3d",
   "metadata": {},
   "outputs": [],
   "source": [
    "# importing dependencies\n",
    "import numpy as np\n",
    "from numpy import asarray\n",
    "import cv2\n",
    "import os\n",
    "from os import listdir"
   ]
  },
  {
   "cell_type": "code",
   "execution_count": null,
   "id": "f4657f31-ceb0-47cb-8104-14bf445322a4",
   "metadata": {},
   "outputs": [],
   "source": [
    "# path for data, numpy arrays\n",
    "DATA_PATH = os.path.join('./Data') \n",
    "\n",
    "IMG_PATH = './images/train'\n",
    "\n",
    "length = 30\n",
    "\n",
    "# Actions that we try to detect\n",
    "pets = np.array(['cats', 'dogs'])\n",
    "\n",
    "# create directories\n",
    "for pet in pets: \n",
    "    try: \n",
    "        os.makedirs(os.path.join(DATA_PATH, pet))\n",
    "    except:\n",
    "        pass"
   ]
  },
  {
   "cell_type": "code",
   "execution_count": null,
   "id": "f471701c-d69d-4e17-8e6d-632a08cff1a0",
   "metadata": {},
   "outputs": [],
   "source": [
    "def createArray(filePath):\n",
    "    img = cv2.imread()\n",
    "    img = cv2.cvtColor(img, cv2.COLOR_BGR2RGB)\n",
    "    return np.array(img)  "
   ]
  },
  {
   "cell_type": "code",
   "execution_count": null,
   "id": "848b0ded-baf5-404f-82f8-4ecb9f639b28",
   "metadata": {},
   "outputs": [],
   "source": [
    "def preprocess_image(image_array, target_size):\n",
    "    image_resized = cv2.resize(image_array, target_size)\n",
    "    image_normalized = image_resized / 255.0\n",
    "    return image_normalized"
   ]
  },
  {
   "cell_type": "code",
   "execution_count": null,
   "id": "a91927ee-ecc1-4a6e-a0b8-432955c1bb80",
   "metadata": {},
   "outputs": [],
   "source": [
    "# convert training images to numpy arrays and store in data folder\n",
    "target_size(224, 224)\n",
    "for pet in pets: \n",
    "    index = 0\n",
    "    for subject in os.listdir(f'{IMG_PATH}/{pet}'):\n",
    "        if subject == '.DS_Store':\n",
    "            continue\n",
    "        else:\n",
    "            arr = createArray(f'{IMG_PATH}/{pet}/{subject}')\n",
    "            np_arr = preprocess_image(arr, target_size)\n",
    "            np.save(f'{DATA_PATH}/{pet}/{pet}{index}.npy', np_arr)\n",
    "            index += 1"
   ]
  },
  {
   "cell_type": "markdown",
   "id": "0ca79f70-1cd7-423e-a815-a04b4165e8ec",
   "metadata": {},
   "source": [
    "## Creating Features and Labels"
   ]
  },
  {
   "cell_type": "code",
   "execution_count": null,
   "id": "21c25760-ff7d-4d7b-8768-2e07566a0e80",
   "metadata": {},
   "outputs": [],
   "source": [
    "from sklearn.model_selection import train_test_split\n",
    "from tensorflow.keras.utils import to_categorical"
   ]
  },
  {
   "cell_type": "code",
   "execution_count": null,
   "id": "312bf4d1-518c-4b6a-8fbf-61b724512133",
   "metadata": {},
   "outputs": [],
   "source": [
    "label_map = {label:num for num, label in enumerate(pets)}"
   ]
  },
  {
   "cell_type": "code",
   "execution_count": null,
   "id": "fc393610-3470-4a75-842a-578f4600d7c2",
   "metadata": {},
   "outputs": [],
   "source": [
    "label_map"
   ]
  },
  {
   "cell_type": "code",
   "execution_count": null,
   "id": "447ad500-8b01-4ce6-adc1-2080533c7ba7",
   "metadata": {},
   "outputs": [],
   "source": [
    "features, labels = [], []\n",
    "for pet in pets:\n",
    "    window = []\n",
    "    for subject in os.listdir(os.path.join(DATA_PATH, pet)):\n",
    "        n = np.load(f'{DATA_PATH}/{pet}/{subject}')\n",
    "        window.append(n)\n",
    "    features.append(window)\n",
    "    labels.append(label_map[pet])"
   ]
  },
  {
   "cell_type": "code",
   "execution_count": 133,
   "id": "04df518f-64c3-406d-8f53-7f6e73eab769",
   "metadata": {},
   "outputs": [
    {
     "data": {
      "text/plain": [
       "(2, 12500)"
      ]
     },
     "execution_count": 133,
     "metadata": {},
     "output_type": "execute_result"
    }
   ],
   "source": [
    "np.array(features, dtype=object).shape"
   ]
  },
  {
   "cell_type": "code",
   "execution_count": 134,
   "id": "1649643a-acd5-4e7c-aaab-35d4067ba273",
   "metadata": {},
   "outputs": [
    {
     "data": {
      "text/plain": [
       "(2,)"
      ]
     },
     "execution_count": 134,
     "metadata": {},
     "output_type": "execute_result"
    }
   ],
   "source": [
    "np.array(labels).shape"
   ]
  },
  {
   "cell_type": "code",
   "execution_count": 135,
   "id": "3fb315e5-c7e5-4a7a-b249-9384a78976a7",
   "metadata": {},
   "outputs": [
    {
     "name": "stderr",
     "output_type": "stream",
     "text": [
      "/var/folders/xn/2lpjgth50sn7rh3dx6bz20nm0000gn/T/ipykernel_5671/3919513189.py:1: VisibleDeprecationWarning: Creating an ndarray from ragged nested sequences (which is a list-or-tuple of lists-or-tuples-or ndarrays with different lengths or shapes) is deprecated. If you meant to do this, you must specify 'dtype=object' when creating the ndarray.\n",
      "  X = np.array(features)\n"
     ]
    }
   ],
   "source": [
    "X = np.array(features)"
   ]
  },
  {
   "cell_type": "code",
   "execution_count": 136,
   "id": "c86108a8-c8e6-4689-b367-e443b27c1ae9",
   "metadata": {},
   "outputs": [],
   "source": [
    "y = to_categorical(labels).astype(int)"
   ]
  },
  {
   "cell_type": "code",
   "execution_count": 137,
   "id": "fdf65c9f-7675-4c0b-95df-3b302519178a",
   "metadata": {},
   "outputs": [],
   "source": [
    "# 80:20 ratio between training and testing data\n",
    "X_train, X_test, y_train, y_test = train_test_split(X, y, test_size=0.20)"
   ]
  },
  {
   "cell_type": "markdown",
   "id": "d04de850-afd8-4531-965c-e31749eb4681",
   "metadata": {},
   "source": [
    "## Building and Training the Neural Network"
   ]
  },
  {
   "cell_type": "code",
   "execution_count": 138,
   "id": "4cc91359-63b5-4dc8-9085-582d7f86a8f3",
   "metadata": {},
   "outputs": [],
   "source": [
    "from tensorflow.keras.models import Sequential\n",
    "from tensorflow.keras.layers import Dense\n",
    "from tensorflow.keras.callbacks import TensorBoard"
   ]
  },
  {
   "cell_type": "code",
   "execution_count": 139,
   "id": "d59f497c-f2cd-4164-ab7c-921fac3f0e20",
   "metadata": {},
   "outputs": [],
   "source": [
    "# view data on the model as it's being trained\n",
    "log_dir = os.path.join('Logs')\n",
    "tb_callback = TensorBoard(log_dir=log_dir)"
   ]
  },
  {
   "cell_type": "code",
   "execution_count": 140,
   "id": "0165b0f2-6bfa-438c-99f1-aba6276169f8",
   "metadata": {},
   "outputs": [],
   "source": [
    "model = Sequential([\n",
    "    Dense(units=64, activation='relu'),\n",
    "    Dense(units=32, activation='relu'),\n",
    "    Dense(units=1, activation='softmax')\n",
    "])"
   ]
  },
  {
   "cell_type": "code",
   "execution_count": 141,
   "id": "c471b1c1-8c4f-47c0-80bd-9ec633a91e57",
   "metadata": {},
   "outputs": [],
   "source": [
    "model.compile(optimizer='Adam', loss='binary_crossentropy', metrics=['categorical_accuracy'])"
   ]
  },
  {
   "cell_type": "code",
   "execution_count": 142,
   "id": "453c5f4d-03f1-4261-a02f-f8f5e2ee3a10",
   "metadata": {},
   "outputs": [
    {
     "ename": "ValueError",
     "evalue": "Failed to convert a NumPy array to a Tensor (Unsupported object type numpy.ndarray).",
     "output_type": "error",
     "traceback": [
      "\u001b[0;31m---------------------------------------------------------------------------\u001b[0m",
      "\u001b[0;31mValueError\u001b[0m                                Traceback (most recent call last)",
      "Cell \u001b[0;32mIn[142], line 1\u001b[0m\n\u001b[0;32m----> 1\u001b[0m \u001b[43mmodel\u001b[49m\u001b[38;5;241;43m.\u001b[39;49m\u001b[43mfit\u001b[49m\u001b[43m(\u001b[49m\u001b[43mX_train\u001b[49m\u001b[43m,\u001b[49m\u001b[43m \u001b[49m\u001b[43my_train\u001b[49m\u001b[43m,\u001b[49m\u001b[43m \u001b[49m\u001b[43mepochs\u001b[49m\u001b[38;5;241;43m=\u001b[39;49m\u001b[38;5;241;43m10\u001b[39;49m\u001b[43m,\u001b[49m\u001b[43m \u001b[49m\u001b[43mcallbacks\u001b[49m\u001b[38;5;241;43m=\u001b[39;49m\u001b[43m[\u001b[49m\u001b[43mtb_callback\u001b[49m\u001b[43m]\u001b[49m\u001b[43m)\u001b[49m\n",
      "File \u001b[0;32m~/anaconda3/lib/python3.10/site-packages/keras/src/utils/traceback_utils.py:122\u001b[0m, in \u001b[0;36mfilter_traceback.<locals>.error_handler\u001b[0;34m(*args, **kwargs)\u001b[0m\n\u001b[1;32m    119\u001b[0m     filtered_tb \u001b[38;5;241m=\u001b[39m _process_traceback_frames(e\u001b[38;5;241m.\u001b[39m__traceback__)\n\u001b[1;32m    120\u001b[0m     \u001b[38;5;66;03m# To get the full stack trace, call:\u001b[39;00m\n\u001b[1;32m    121\u001b[0m     \u001b[38;5;66;03m# `keras.config.disable_traceback_filtering()`\u001b[39;00m\n\u001b[0;32m--> 122\u001b[0m     \u001b[38;5;28;01mraise\u001b[39;00m e\u001b[38;5;241m.\u001b[39mwith_traceback(filtered_tb) \u001b[38;5;28;01mfrom\u001b[39;00m \u001b[38;5;28;01mNone\u001b[39;00m\n\u001b[1;32m    123\u001b[0m \u001b[38;5;28;01mfinally\u001b[39;00m:\n\u001b[1;32m    124\u001b[0m     \u001b[38;5;28;01mdel\u001b[39;00m filtered_tb\n",
      "File \u001b[0;32m~/anaconda3/lib/python3.10/site-packages/tensorflow/python/framework/constant_op.py:108\u001b[0m, in \u001b[0;36mconvert_to_eager_tensor\u001b[0;34m(value, ctx, dtype)\u001b[0m\n\u001b[1;32m    106\u001b[0m     dtype \u001b[38;5;241m=\u001b[39m dtypes\u001b[38;5;241m.\u001b[39mas_dtype(dtype)\u001b[38;5;241m.\u001b[39mas_datatype_enum\n\u001b[1;32m    107\u001b[0m ctx\u001b[38;5;241m.\u001b[39mensure_initialized()\n\u001b[0;32m--> 108\u001b[0m \u001b[38;5;28;01mreturn\u001b[39;00m \u001b[43mops\u001b[49m\u001b[38;5;241;43m.\u001b[39;49m\u001b[43mEagerTensor\u001b[49m\u001b[43m(\u001b[49m\u001b[43mvalue\u001b[49m\u001b[43m,\u001b[49m\u001b[43m \u001b[49m\u001b[43mctx\u001b[49m\u001b[38;5;241;43m.\u001b[39;49m\u001b[43mdevice_name\u001b[49m\u001b[43m,\u001b[49m\u001b[43m \u001b[49m\u001b[43mdtype\u001b[49m\u001b[43m)\u001b[49m\n",
      "\u001b[0;31mValueError\u001b[0m: Failed to convert a NumPy array to a Tensor (Unsupported object type numpy.ndarray)."
     ]
    }
   ],
   "source": [
    "model.fit(X_train, y_train, epochs=10, callbacks=[tb_callback])"
   ]
  },
  {
   "cell_type": "code",
   "execution_count": null,
   "id": "853eb3a5-9637-4fcf-b3e6-11ad33f2f137",
   "metadata": {},
   "outputs": [],
   "source": [
    "model.summary()"
   ]
  },
  {
   "cell_type": "markdown",
   "id": "ab8df97a-6fcd-4cb2-b031-1cae39dd9de0",
   "metadata": {},
   "source": [
    "## Making Predictions"
   ]
  },
  {
   "cell_type": "code",
   "execution_count": null,
   "id": "af570b8a-6d18-4e48-b4d6-76e6f3b00f05",
   "metadata": {},
   "outputs": [],
   "source": []
  }
 ],
 "metadata": {
  "kernelspec": {
   "display_name": "Python 3 (ipykernel)",
   "language": "python",
   "name": "python3"
  },
  "language_info": {
   "codemirror_mode": {
    "name": "ipython",
    "version": 3
   },
   "file_extension": ".py",
   "mimetype": "text/x-python",
   "name": "python",
   "nbconvert_exporter": "python",
   "pygments_lexer": "ipython3",
   "version": "3.10.9"
  }
 },
 "nbformat": 4,
 "nbformat_minor": 5
}
